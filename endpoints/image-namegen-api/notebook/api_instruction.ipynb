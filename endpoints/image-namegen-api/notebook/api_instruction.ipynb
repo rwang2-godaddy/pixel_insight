{
 "cells": [
  {
   "cell_type": "markdown",
   "id": "688eaba6-c439-448f-a838-9eabee1312df",
   "metadata": {},
   "source": [
    "# Use Case 1: Have a picture to upload & then answer questions\n"
   ]
  },
  {
   "cell_type": "code",
   "execution_count": 8,
   "id": "1d86d9f4-ef0d-4a8b-b744-2a89012f44b3",
   "metadata": {},
   "outputs": [
    {
     "name": "stdout",
     "output_type": "stream",
     "text": [
      "First Request Status Code: 200\n",
      "First Request Response: {'chat_response': '{\\n  \"question\": \"If you were to start a website about your secret talent, what would it be called?\",\\n  \"options\": {\\n    \"a\": \"www.SingingInTheShower.com\",\\n    \"b\": \"www.ExtremeIroningPro.com\",\\n    \"c\": \"www.UnderwaterBasketWeaving.net\",\\n    \"d\": \"www.ProfessionalNapper.org\"\\n  }\\n}', 'question_flag': True, 'success': True}\n"
     ]
    }
   ],
   "source": [
    "import requests\n",
    "server_url = \"http://127.0.0.1:5000/image\"\n",
    "image_path = \"/Users/rwang2/Downloads/5c8773841955916fbbc1fabdc851515f.jpg\"\n",
    "\n",
    "# Create a session to persist cookies and session data\n",
    "session = requests.Session()\n",
    "\n",
    "# Prepare the image file\n",
    "with open(image_path, \"rb\") as image_file:\n",
    "    files = {\"image\": (\"5c8773841955916fbbc1fabdc851515f.jpg\", image_file)}\n",
    "\n",
    "    # Request 1: Send \"sample\"\n",
    "    params1 = {\"question_flag\": True, \"message\": \"sample\"}\n",
    "    response1 = session.post(server_url, files=files, params=params1)\n",
    "    print(\"First Request Status Code:\", response1.status_code)\n",
    "    print(\"First Request Response:\", response1.json() if response1.ok else response1.text)\n"
   ]
  },
  {
   "cell_type": "code",
   "execution_count": 4,
   "id": "5f72f608-4ae8-46b2-87cb-bed1c14ab81b",
   "metadata": {},
   "outputs": [
    {
     "name": "stdout",
     "output_type": "stream",
     "text": [
      "Second Request Status Code: 200\n",
      "Second Request Response: {'chat_response': '{\\n  \"question\": \"If you were to start a website about your love for cats, which domain name would you choose?\",\\n  \"options\": {\\n    \"a\": \"www.catloverforever.com\",\\n    \"b\": \"www.felinefriends.net\",\\n    \"c\": \"www.meowmeowmeow.org\",\\n    \"d\": \"www.purrfectpals.co\"\\n  }\\n}', 'question_flag': True, 'success': True}\n"
     ]
    }
   ],
   "source": [
    "\n",
    "        # Prepare the image file\n",
    "with open(image_path, \"rb\") as image_file:\n",
    "    files = {\"image\": (\"5c8773841955916fbbc1fabdc851515f.jpg\", image_file)}\n",
    "    # Request 2: Send \"a\"\n",
    "    params2 = {\"question_flag\": True, \"message\": \"a\"}\n",
    "    response2 = session.post(server_url, files=files, params=params2)\n",
    "    print(\"Second Request Status Code:\", response2.status_code)\n",
    "    print(\"Second Request Response:\", response2.json() if response2.ok else response2.text)\n",
    "\n",
    "  "
   ]
  },
  {
   "cell_type": "code",
   "execution_count": 5,
   "id": "77c4ef26-a994-43a3-b0d6-8ffee62f546f",
   "metadata": {},
   "outputs": [
    {
     "name": "stdout",
     "output_type": "stream",
     "text": [
      "Status Code: 200\n",
      "Response: {'chat_response': '{\\n  \"question\": \"You\\'ve just won a free trip to an exotic location, but the catch is you have to build a website to document your adventures. What\\'s the first domain name you\\'d snatch up?\",\\n  \"options\": {\\n    \"a\": \"WanderlustAdventures.com\",\\n    \"b\": \"TropicalTales.travel\",\\n    \"c\": \"ExoticEscapades.net\",\\n    \"d\": \"AdventureAwaits.me\"\\n  }\\n}', 'question_flag': True, 'success': True}\n"
     ]
    }
   ],
   "source": [
    "# Prepare the image file\n",
    "with open(image_path, \"rb\") as image_file:\n",
    "    files = {\"image\": (\"5c8773841955916fbbc1fabdc851515f.jpg\", image_file)}\n",
    "\n",
    "    # Request 1: Send \"sample\"\n",
    "    params3 = {\"question_flag\": \"true\", \"message\": \"b\"}\n",
    "    response3 = session.post(server_url, files=files, params=params1)\n",
    "    print(\"Status Code:\", response3.status_code)\n",
    "    print(\"Response:\", response3.json() if response1.ok else response1.text)"
   ]
  },
  {
   "cell_type": "code",
   "execution_count": 6,
   "id": "cbcf7813-4815-4a4a-a1bf-2a12ce104847",
   "metadata": {},
   "outputs": [
    {
     "name": "stdout",
     "output_type": "stream",
     "text": [
      "Status Code: 200\n",
      "Response: {'chat_response': \"{\\n  'domain_name': 'NatureEscape.com', 'price': '$1500'\\n},\\n{\\n  'domain_name': 'WildlifeWonders.com', 'price': '$1200'\\n},\\n{\\n  'domain_name': 'EcoAdventureTours.com', 'price': '$1000'\\n},\\n{\\n  'domain_name': 'GreenGetaways.com', 'price': '$900'\\n},\\n{\\n  'domain_name': 'EcoTrekking.com', 'price': '$800'\\n},\\n{\\n  'domain_name': 'NatureNest.com', 'price': '$700'\\n},\\n{\\n  'domain_name': 'WildernessWalks.com', 'price': '$600'\\n},\\n{\\n  'domain_name': 'EcoExplorers.com', 'price': '$500'\\n},\\n{\\n  'domain_name': 'NatureNomads.com', 'price': '$400'\\n},\\n{\\n  'domain_name': 'EcoTrails.com', 'price': '$300'\\n},\\n{\\n  'domain_name': 'WildlifeWanderlust.com', 'price': '$200'\\n},\\n{\\n  'domain_name': 'EcoHikes.com', 'price': '$150'\\n},\\n{\\n  'domain_name': 'NatureNooks.com', 'price': '$100'\\n},\\n{\\n  'domain_name': 'EcoOdyssey.com', 'price': '$90'\\n},\\n{\\n  'domain_name': 'WildlifeRoam.com', 'price': '$80'\\n},\\n{\\n  'domain_name': 'EcoExcursions.com', 'price': '$70'\\n},\\n{\\n  'domain_name': 'NatureJaunts.com', 'price': '$60'\\n},\\n{\\n  'domain_name': 'EcoJourneys.com', 'price': '$50'\\n},\\n{\\n  'domain_name': 'WildernessWays.com', 'price': '$40'\\n},\\n{\\n  'domain_name': 'EcoSafaris.com', 'price': '$30'\\n}\", 'question_flag': True, 'success': True}\n"
     ]
    }
   ],
   "source": [
    "        # Prepare the image file\n",
    "with open(image_path, \"rb\") as image_file:\n",
    "    files = {\"image\": (\"5c8773841955916fbbc1fabdc851515f.jpg\", image_file)}\n",
    "    # Request 2: Send \"a\"\n",
    "    params4 = {\"question_flag\": \"true\", \"message\": \"c\"}\n",
    "    response4 = session.post(server_url, files=files, params=params2)\n",
    "    print(\"Status Code:\", response3.status_code)\n",
    "    print(\"Response:\", response4.json() if response2.ok else response2.text)\n",
    "  "
   ]
  },
  {
   "cell_type": "markdown",
   "id": "c67ae3d6-6a80-494c-888a-f2ad0889e762",
   "metadata": {},
   "source": [
    "# Use Case 2: Have a picture not don't want questions"
   ]
  },
  {
   "cell_type": "code",
   "execution_count": 5,
   "id": "59ee742d-cf55-49bd-a839-70a54f3fa760",
   "metadata": {},
   "outputs": [
    {
     "name": "stdout",
     "output_type": "stream",
     "text": [
      "Status Code: 200\n",
      "Response: {'chat_response': \"{\\n  'domain_name': 'OceanViewParadise.com', 'price': '$1,500'\\n},\\n{\\n  'domain_name': 'BeachfrontBliss.com', 'price': '$1,200'\\n},\\n{\\n  'domain_name': 'TropicalRetreats.com', 'price': '$1,800'\\n},\\n{\\n  'domain_name': 'IslandGetawayVillas.com', 'price': '$2,000'\\n},\\n{\\n  'domain_name': 'SandyShoresResort.com', 'price': '$1,700'\\n},\\n{\\n  'domain_name': 'BlueHorizonEscapes.com', 'price': '$1,600'\\n},\\n{\\n  'domain_name': 'ParadiseCoveHideaway.com', 'price': '$1,900'\\n},\\n{\\n  'domain_name': 'SunsetBayVacations.com', 'price': '$1,400'\\n},\\n{\\n  'domain_name': 'PalmTreeHaven.com', 'price': '$1,300'\\n},\\n{\\n  'domain_name': 'SeasideSerenity.com', 'price': '$1,100'\\n},\\n{\\n  'domain_name': 'TropicalBreezeGetaways.com', 'price': '$2,100'\\n},\\n{\\n  'domain_name': 'CoralReefRetreat.com', 'price': '$1,600'\\n},\\n{\\n  'domain_name': 'LagoonLuxuryResorts.com', 'price': '$2,200'\\n},\\n{\\n  'domain_name': 'CoastalCharmVillas.com', 'price': '$1,700'\\n},\\n{\\n  'domain_name': 'AquaParadiseResorts.com', 'price': '$1,900'\\n},\\n{\\n  'domain_name': 'IslandEscapeHomes.com', 'price': '$1,800'\\n},\\n{\\n  'domain_name': 'BeachBungalowBliss.com', 'price': '$1,500'\\n},\\n{\\n  'domain_name': 'OceanfrontOasis.com', 'price': '$2,300'\\n},\\n{\\n  'domain_name': 'TropicalHideawayVillas.com', 'price': '$1,600'\\n},\\n{\\n  'domain_name': 'SunshineCoastCottages.com', 'price': '$1,400'\\n}\", 'question_flag': False, 'success': True}\n"
     ]
    }
   ],
   "source": [
    "  # Prepare the image file\n",
    "with open(image_path, \"rb\") as image_file:\n",
    "    files = {\"image\": (\"5c8773841955916fbbc1fabdc851515f.jpg\", image_file)}\n",
    "    # Request 4: Send \"c\"\n",
    "    params4 = {\"question_flag\": \"false\", \"message\": \"sample\"}\n",
    "    response4 = session.post(server_url, files=files, params=params4)\n",
    "    print(\"Status Code:\", response4.status_code)\n",
    "    print(\"Response:\", response4.json() if response4.ok else response4.text)\n",
    "\n"
   ]
  },
  {
   "cell_type": "markdown",
   "id": "3856063c-3291-4701-b00f-3b7e507a8cc4",
   "metadata": {},
   "source": [
    "# Use Case 3: Don't have picture but I want a domainality test"
   ]
  },
  {
   "cell_type": "code",
   "execution_count": 7,
   "id": "95bbad5e-6977-4892-9208-153d94ad42ce",
   "metadata": {},
   "outputs": [
    {
     "name": "stdout",
     "output_type": "stream",
     "text": [
      "Status Code: 415\n",
      "Response: <!doctype html>\n",
      "<html lang=en>\n",
      "<title>415 Unsupported Media Type</title>\n",
      "<h1>Unsupported Media Type</h1>\n",
      "<p>Did not attempt to load JSON data because the request Content-Type was not &#39;application/json&#39;.</p>\n",
      "\n"
     ]
    }
   ],
   "source": [
    "  # Prepare the image file\n",
    "session = requests.Session()\n",
    "server_url = \"http://127.0.0.1:5000/test\"\n",
    "params = {\"message\": \"sample\"}\n",
    "response = session.post(server_url, params=params)\n",
    "print(\"Status Code:\", response.status_code)\n",
    "print(\"Response:\", response.json() if response.ok else response.text)\n",
    "\n"
   ]
  },
  {
   "cell_type": "code",
   "execution_count": 58,
   "id": "06761b99-e82c-45f3-8ebf-fa059856b84a",
   "metadata": {},
   "outputs": [
    {
     "name": "stdout",
     "output_type": "stream",
     "text": [
      "Status Code: 200\n",
      "Response: {'chat_response': '```json\\n{\\n  \"question\": \"What tone best reflects the personality of the brand or website you are interested in?\",\\n  \"options\": {\\n    \"a\": \"Innovative and cutting-edge\",\\n    \"b\": \"Professional and authoritative\",\\n    \"c\": \"Playful and fun-loving\",\\n    \"d\": \"Friendly and approachable\"\\n  }\\n}\\n```', 'success': True}\n"
     ]
    }
   ],
   "source": [
    "server_url = \"http://127.0.0.1:5000/domain_test\"\n",
    "params = {\"message\": \"a\"}\n",
    "response = session.post(server_url, params=params)\n",
    "print(\"Status Code:\", response.status_code)\n",
    "print(\"Response:\", response.json() if response.ok else response.text)"
   ]
  },
  {
   "cell_type": "code",
   "execution_count": 59,
   "id": "a986e36e-1f3b-4fc9-9314-d6277171c532",
   "metadata": {},
   "outputs": [
    {
     "name": "stdout",
     "output_type": "stream",
     "text": [
      "Status Code: 200\n",
      "Response: {'chat_response': '```json\\n{\\n  \"question\": \"When choosing a domain name, which feature do you prioritize the most?\",\\n  \"options\": {\\n    \"a\": \"Brevity (short and memorable)\",\\n    \"b\": \"Descriptiveness (clearly conveys purpose)\",\\n    \"c\": \"Catchiness (sounds appealing and engaging)\",\\n    \"d\": \"SEO-friendliness (optimized for search engines)\"\\n  }\\n}\\n```', 'success': True}\n"
     ]
    }
   ],
   "source": [
    "server_url = \"http://127.0.0.1:5000/domain_test\"\n",
    "params = {\"message\": \"b\"}\n",
    "response = session.post(server_url, params=params)\n",
    "print(\"Status Code:\", response.status_code)\n",
    "print(\"Response:\", response.json() if response.ok else response.text)"
   ]
  },
  {
   "cell_type": "code",
   "execution_count": 60,
   "id": "576bd4fa-01a4-4a3f-b1d2-c26299b004cf",
   "metadata": {},
   "outputs": [
    {
     "name": "stdout",
     "output_type": "stream",
     "text": [
      "Status Code: 200\n",
      "Response: {'chat_response': '```json\\n{\\n  \"question\": \"Which type of top-level domain do you believe aligns best with your brand\\'s goals?\",\\n  \"options\": {\\n    \"a\": \".com - for a commercial presence\",\\n    \"b\": \".org - for a non-profit or community-focused initiative\",\\n    \"c\": \".ai - for a tech or artificial intelligence-related venture\",\\n    \"d\": \".shop - for an e-commerce or retail business\"\\n  }\\n}\\n```', 'success': True}\n"
     ]
    }
   ],
   "source": [
    "server_url = \"http://127.0.0.1:5000/domain_test\"\n",
    "params = {\"message\": \"d\"}\n",
    "response = session.post(server_url, params=params)\n",
    "print(\"Status Code:\", response.status_code)\n",
    "print(\"Response:\", response.json() if response.ok else response.text)"
   ]
  },
  {
   "cell_type": "code",
   "execution_count": 61,
   "id": "9962ef2b-4d37-45d9-8548-ae50e74d15db",
   "metadata": {},
   "outputs": [
    {
     "name": "stdout",
     "output_type": "stream",
     "text": [
      "Status Code: 200\n",
      "Response: {'chat_response': '```json\\n{\\n  \"question\": \"Which type of keywords do you prefer for your domain name?\",\\n  \"options\": {\\n    \"a\": \"Abstract and creative\",\\n    \"b\": \"Industry-specific and descriptive\",\\n    \"c\": \"Action-oriented and dynamic\",\\n    \"d\": \"Straightforward and simple\"\\n  }\\n}\\n```', 'success': True}\n"
     ]
    }
   ],
   "source": [
    "server_url = \"http://127.0.0.1:5000/domain_test\"\n",
    "params = {\"message\": \"a\"}\n",
    "response = session.post(server_url, params=params)\n",
    "print(\"Status Code:\", response.status_code)\n",
    "print(\"Response:\", response.json() if response.ok else response.text)"
   ]
  },
  {
   "cell_type": "code",
   "execution_count": 62,
   "id": "4ffa1225-c37d-473e-8efa-18e822e3ff0e",
   "metadata": {},
   "outputs": [
    {
     "name": "stdout",
     "output_type": "stream",
     "text": [
      "Status Code: 200\n",
      "Response: {'chat_response': '```json\\n{\\n  \"question\": \"What emotion do you want your audience to feel when they visit your domain?\",\\n  \"options\": {\\n    \"a\": \"Excitement\",\\n    \"b\": \"Confidence\",\\n    \"c\": \"Curiosity\",\\n    \"d\": \"Inspiration\"\\n  }\\n}\\n```', 'success': True}\n"
     ]
    }
   ],
   "source": [
    "server_url = \"http://127.0.0.1:5000/domain_test\"\n",
    "params = {\"message\": \"a\"}\n",
    "response = session.post(server_url, params=params)\n",
    "print(\"Status Code:\", response.status_code)\n",
    "print(\"Response:\", response.json() if response.ok else response.text)"
   ]
  },
  {
   "cell_type": "code",
   "execution_count": 63,
   "id": "857a2504-5570-416f-b99b-8578b33b2ee7",
   "metadata": {},
   "outputs": [
    {
     "name": "stdout",
     "output_type": "stream",
     "text": [
      "Status Code: 200\n",
      "Response: {'chat_response': '```json\\n{\\n  \"question\": \"Which personality type do you think best represents your ideal domain name?\",\\n  \"options\": {\\n    \"a\": \"Bold - A name that stands out and makes a strong impression.\",\\n    \"b\": \"Reliable - A name that conveys trustworthiness and stability.\",\\n    \"c\": \"Creative - A name that sparks imagination and innovation.\",\\n    \"d\": \"Practical - A name that is straightforward and functional.\"\\n  }\\n}\\n```', 'success': True}\n"
     ]
    }
   ],
   "source": [
    "server_url = \"http://127.0.0.1:5000/domain_test\"\n",
    "params = {\"message\": \"d\"}\n",
    "response = session.post(server_url, params=params)\n",
    "print(\"Status Code:\", response.status_code)\n",
    "print(\"Response:\", response.json() if response.ok else response.text)"
   ]
  },
  {
   "cell_type": "code",
   "execution_count": 64,
   "id": "9e5c5756-c114-40fd-a695-6d97c6aade27",
   "metadata": {},
   "outputs": [
    {
     "name": "stdout",
     "output_type": "stream",
     "text": [
      "Status Code: 200\n",
      "Response: {'chat_response': '```json\\n{\\n  \"question\": \"When choosing a domain name, how important is it for you to keep the length short and memorable?\",\\n  \"options\": {\\n    \"a\": \"Very important - I prefer concise names.\",\\n    \"b\": \"Somewhat important - I value both length and clarity.\",\\n    \"c\": \"Not very important - I prioritize clarity over length.\",\\n    \"d\": \"Not at all important - I believe longer names can be more descriptive.\"\\n  }\\n}\\n```', 'success': True}\n"
     ]
    }
   ],
   "source": [
    "server_url = \"http://127.0.0.1:5000/domain_test\"\n",
    "params = {\"message\": \"a\"}\n",
    "response = session.post(server_url, params=params)\n",
    "print(\"Status Code:\", response.status_code)\n",
    "print(\"Response:\", response.json() if response.ok else response.text)"
   ]
  },
  {
   "cell_type": "code",
   "execution_count": 65,
   "id": "010788b9-83c6-401a-9a81-3b808bc9bce4",
   "metadata": {},
   "outputs": [
    {
     "name": "stdout",
     "output_type": "stream",
     "text": [
      "Status Code: 200\n",
      "Response: {'chat_response': '```json\\n{\\n  \"question\": \"When choosing a domain name for your online presence, do you prefer a name that reflects cutting-edge ideas or one that conveys a sense of heritage and reliability?\",\\n  \"options\": {\\n    \"a\": \"I prefer a name that feels modern and innovative.\",\\n    \"b\": \"I lean towards names that are classic and timeless.\",\\n    \"c\": \"I like a mix of both innovation and tradition.\",\\n    \"d\": \"I don\\'t have a strong preference either way.\"\\n  }\\n}\\n```', 'success': True}\n"
     ]
    }
   ],
   "source": [
    "server_url = \"http://127.0.0.1:5000/domain_test\"\n",
    "params = {\"message\": \"a\"}\n",
    "response = session.post(server_url, params=params)\n",
    "print(\"Status Code:\", response.status_code)\n",
    "print(\"Response:\", response.json() if response.ok else response.text)"
   ]
  },
  {
   "cell_type": "code",
   "execution_count": 66,
   "id": "a47ebed9-3597-4bc9-a54a-6b8767361933",
   "metadata": {},
   "outputs": [
    {
     "name": "stdout",
     "output_type": "stream",
     "text": [
      "Status Code: 200\n",
      "Response: {'chat_response': '```json\\n{\\n  \"question\": \"Which type of domain extension are you most excited to explore for your next website project?\",\\n  \"options\": {\\n    \"a\": \".tech\",\\n    \"b\": \".design\",\\n    \"c\": \".space\",\\n    \"d\": \".xyz\"\\n  }\\n}\\n```', 'success': True}\n"
     ]
    }
   ],
   "source": [
    "server_url = \"http://127.0.0.1:5000/domain_test\"\n",
    "params = {\"message\": \"c\"}\n",
    "response = session.post(server_url, params=params)\n",
    "print(\"Status Code:\", response.status_code)\n",
    "print(\"Response:\", response.json() if response.ok else response.text)"
   ]
  },
  {
   "cell_type": "code",
   "execution_count": 67,
   "id": "eed652fa-7846-4340-9768-a84ee6a97d51",
   "metadata": {},
   "outputs": [
    {
     "name": "stdout",
     "output_type": "stream",
     "text": [
      "Status Code: 200\n",
      "Response: {'chat_response': 'Certainly! Below is an example of a JSON structure for recommended domain names along with a JavaScript code snippet to generate a radar graph for each domain.\\n\\n### Example JSON Structure\\n\\n```json\\n{\\n  \"example-domain1.com\": {\\n    \"score\": {\\n      \"usability\": 8,\\n      \"SEO\": 7,\\n      \"branding\": 9,\\n      \"performance\": 6\\n    },\\n    \"price\": 15.99,\\n    \"radar_graph\": \"generateRadarGraph(\\'example-domain1.com\\', {usability: 8, SEO: 7, branding: 9, performance: 6});\"\\n  },\\n  \"example-domain2.com\": {\\n    \"score\": {\\n      \"usability\": 6,\\n      \"SEO\": 8,\\n      \"branding\": 7,\\n      \"performance\": 9\\n    },\\n    \"price\": 12.99,\\n    \"radar_graph\": \"generateRadarGraph(\\'example-domain2.com\\', {usability: 6, SEO: 8, branding: 7, performance: 9});\"\\n  }\\n}\\n```\\n\\n### JavaScript Code to Generate Radar Graph\\n\\nBelow is a sample JavaScript function that would generate a radar graph using a library like Chart.js.\\n\\n```html\\n<!DOCTYPE html>\\n<html lang=\"en\">\\n<head>\\n    <meta charset=\"UTF-8\">\\n    <meta name=\"viewport\" content=\"width=device-width, initial-scale=1.0\">\\n    <title>Radar Chart Example</title>\\n    <script src=\"https://cdn.jsdelivr.net/npm/chart.js\"></script>\\n</head>\\n<body>\\n    <canvas id=\"radarChart\" width=\"400\" height=\"400\"></canvas>\\n    <script>\\n        function generateRadarGraph(domain, scores) {\\n            const ctx = document.getElementById(\\'radarChart\\').getContext(\\'2d\\');\\n            const data = {\\n                labels: Object.keys(scores),\\n                datasets: [{\\n                    label: domain,\\n                    data: Object.values(scores),\\n                    backgroundColor: \\'rgba(255, 99, 132, 0.2)\\',\\n                    borderColor: \\'rgba(255, 99, 132, 1)\\',\\n                    borderWidth: 1\\n                }]\\n            };\\n\\n            const options = {\\n                scales: {\\n                    r: {\\n                        beginAtZero: true\\n                    }\\n                }\\n            };\\n\\n            new Chart(ctx, {\\n                type: \\'radar\\',\\n                data: data,\\n                options: options\\n            });\\n        }\\n\\n        // Example usage based on JSON structure\\n        generateRadarGraph(\\'example-domain1.com\\', {usability: 8, SEO: 7, branding: 9, performance: 6});\\n    </script>\\n</body>\\n</html>\\n```\\n\\n### How to Use\\n\\n1. Place the JSON structure in your application where you are managing the domain recommendations.\\n2. Use the `generateRadarGraph` function by passing the domain name and its scores as shown in the example usage.\\n3. Ensure you have the Chart.js library included to render the radar chart.\\n\\nYou can customize the `backgroundColor`, `borderColor`, and other options in the JavaScript code to suit your design preferences.', 'success': True}\n"
     ]
    }
   ],
   "source": [
    "server_url = \"http://127.0.0.1:5000/domain_test\"\n",
    "params = {\"message\": \"c\"}\n",
    "response = session.post(server_url, params=params)\n",
    "print(\"Status Code:\", response.status_code)\n",
    "print(\"Response:\", response.json() if response.ok else response.text)"
   ]
  },
  {
   "cell_type": "code",
   "execution_count": null,
   "id": "ab7fbe71-6d76-4a68-bccb-5d5b03094757",
   "metadata": {},
   "outputs": [],
   "source": []
  }
 ],
 "metadata": {
  "kernelspec": {
   "display_name": "Python 3 (ipykernel)",
   "language": "python",
   "name": "python3"
  },
  "language_info": {
   "codemirror_mode": {
    "name": "ipython",
    "version": 3
   },
   "file_extension": ".py",
   "mimetype": "text/x-python",
   "name": "python",
   "nbconvert_exporter": "python",
   "pygments_lexer": "ipython3",
   "version": "3.12.7"
  }
 },
 "nbformat": 4,
 "nbformat_minor": 5
}
